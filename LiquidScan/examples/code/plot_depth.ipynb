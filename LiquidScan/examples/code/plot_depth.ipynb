{
 "cells": [
  {
   "cell_type": "markdown",
   "metadata": {},
   "source": [
    "\n",
    "Project depth map as point cloud"
   ]
  },
  {
   "cell_type": "code",
   "execution_count": null,
   "metadata": {},
   "outputs": [],
   "source": [
    "import numpy as np\n",
    "import plotly.graph_objects as go\n",
    "import imageio\n",
    "import cv2\n",
    "def project_image(image_path):\n",
    "    # Load the image using imageio\n",
    "    image = cv2.imread(image_path, cv2.IMREAD_GRAYSCALE)\n",
    "    image = cv2.imread(image_path, as_gray=True)\n",
    "    \n",
    "    # Normalize the image pixel values between 0 and 1\n",
    "    image = image.astype(np.float32) / 255.0\n",
    "    \n",
    "    # Get the shape of the image\n",
    "    height, width = image.shape\n",
    "    \n",
    "    # Create a grid of x, y coordinates\n",
    "    x = np.arange(width)\n",
    "    y = np.arange(height)\n",
    "    x_grid, y_grid = np.meshgrid(x, y)\n",
    "    \n",
    "    # Define the 3D surface data\n",
    "    surface = go.Surface(\n",
    "        x=x_grid,\n",
    "        y=y_grid,\n",
    "        z=image,\n",
    "        colorscale='gray',\n",
    "        showscale=False\n",
    "    )\n",
    "    \n",
    "    # Create the figure layout\n",
    "    layout = go.Layout(\n",
    "        scene=dict(\n",
    "            aspectmode='data',\n",
    "            xaxis=dict(title='X'),\n",
    "            yaxis=dict(title='Y'),\n",
    "            zaxis=dict(title='Intensity')\n",
    "        )\n",
    "    )\n",
    "    \n",
    "    # Create the figure\n",
    "    fig = go.Figure(data=[surface], layout=layout)\n",
    "    \n",
    "    # Show the figure\n",
    "    fig.show()\n",
    "\n",
    "# Provide the path to your image file\n",
    "image_path = 'dataset\\preprocessing\\BRICK\\IMAGES\\P_20230605_181851.jpg'\n",
    "\n",
    "# Call the function to project the image\n",
    "project_image(image_path)\n"
   ]
  },
  {
   "cell_type": "code",
   "execution_count": null,
   "metadata": {},
   "outputs": [],
   "source": []
  },
  {
   "cell_type": "code",
   "execution_count": null,
   "metadata": {},
   "outputs": [],
   "source": [
    "\"\"\"\n",
    "I forgot what this does, but hey someone else can figure it out\n",
    "\"\"\"\n",
    "import numpy as np\n",
    "import plotly.graph_objects as go\n",
    "import skimage.io as sio\n",
    "import cv2\n",
    "\n",
    "x = np.linspace(-2,2, 128)\n",
    "x, z = np.meshgrid(x,x)\n",
    "y = np.sin(x**2*z)\n",
    "\n",
    "fig = go.Figure(go.Surface(x=x, y=y, z=z,\n",
    "                           colorscale='RdBu', \n",
    "                           showscale=False))\n",
    "\n",
    "image = cv2.imread(\"dataset\\preprocessing\\BRICK\\IMAGES\\P_20230605_181851.jpg\", cv2.IMREAD_COLOR) \n",
    "image = cv2.resize(image, (1024, 1024))\n",
    "print(image.shape)\n",
    "img = image[:,:, 1] \n",
    "\n",
    "Y = 0.5 * np.ones(y.shape)\n",
    "\n",
    "fig.add_surface(x=x, y=Y, z=z, \n",
    "                surfacecolor=np.flipud(img), \n",
    "                colorscale='gray', \n",
    "                showscale=False)\n",
    "fig.update_layout(width=image.shape[0], height=image.shape[1], \n",
    "                  scene_camera_eye_z=0.6, \n",
    "                  scene_aspectratio=dict(x=0.9, y=1, z=1))\n",
    "fig.show()"
   ]
  }
 ],
 "metadata": {
  "kernelspec": {
   "display_name": "tf",
   "language": "python",
   "name": "python3"
  },
  "language_info": {
   "codemirror_mode": {
    "name": "ipython",
    "version": 3
   },
   "file_extension": ".py",
   "mimetype": "text/x-python",
   "name": "python",
   "nbconvert_exporter": "python",
   "pygments_lexer": "ipython3",
   "version": "3.8.15"
  },
  "orig_nbformat": 4
 },
 "nbformat": 4,
 "nbformat_minor": 2
}
